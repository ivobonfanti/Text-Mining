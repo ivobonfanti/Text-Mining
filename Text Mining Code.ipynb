{
 "cells": [
  {
   "cell_type": "markdown",
   "id": "a46037e2",
   "metadata": {},
   "source": [
    "## Text mining project - nuclear plants safety"
   ]
  },
  {
   "cell_type": "markdown",
   "id": "3fbb7f48",
   "metadata": {},
   "source": [
    "Merge the datasets into a single dataframe. Only 250 articles can be downloaded from INIS at a time. "
   ]
  },
  {
   "cell_type": "code",
   "execution_count": 62,
   "id": "2e6a9ea6",
   "metadata": {
    "scrolled": true
   },
   "outputs": [
    {
     "data": {
      "text/html": [
       "<div>\n",
       "<style scoped>\n",
       "    .dataframe tbody tr th:only-of-type {\n",
       "        vertical-align: middle;\n",
       "    }\n",
       "\n",
       "    .dataframe tbody tr th {\n",
       "        vertical-align: top;\n",
       "    }\n",
       "\n",
       "    .dataframe thead th {\n",
       "        text-align: right;\n",
       "    }\n",
       "</style>\n",
       "<table border=\"1\" class=\"dataframe\">\n",
       "  <thead>\n",
       "    <tr style=\"text-align: right;\">\n",
       "      <th></th>\n",
       "      <th>author</th>\n",
       "      <th>englishTitle</th>\n",
       "      <th>englishAbstract</th>\n",
       "      <th>publicationYear</th>\n",
       "    </tr>\n",
       "  </thead>\n",
       "  <tbody>\n",
       "    <tr>\n",
       "      <th>0</th>\n",
       "      <td>Mariani, L.P.</td>\n",
       "      <td>Commentary on the cost of nuclear safety</td>\n",
       "      <td>Although adequate levels of nuclear safety have been attained, the societal and institutional approaches taken in the United States to safely harvest the fruits of nuclear power technology have been beset with economic inefficiencies. The paper discusses difficulties with nuclear regulation and complexity and politicization of overall decision-making process. Public acceptance is the key to more economical attainment of nuclear safety objectives. It alone will fuel the federal and state governments to more expeditiously move toward what they would perceive to be a public mandate for nuclear utilization</td>\n",
       "      <td>1991</td>\n",
       "    </tr>\n",
       "    <tr>\n",
       "      <th>1</th>\n",
       "      <td>Corcoran, W.R. (TENERA Risk Management Services, Windsor, CT (United States))</td>\n",
       "      <td>Nuclear utility self-assessment as viewed by the corporate nuclear safety committee</td>\n",
       "      <td>This paper discusses how corporate nuclear safety committees use the principles of self-assessment to enhance nuclear power plant safety performance. Corporate nuclear safety committees function to advise the senior nuclear power executive on matters affecting nuclear safety. These committees are required by the administrative controls section of the plant technical specifications which are part of the final safety analysis report and the operating license. Committee membership includes senior utility executives, executives from sister utilities, utility senior technical experts, and outside consultants. Current corporate nuclear safety committees often have a finely tuned intuitive feel for self-assessment that they use to probe the underlying opportunities for quality and safety enhancements. The questions prompted by the self-assessment orientation enable the utility line organization members to gain better perspectives on the characteristics of the organizational systems that they manage and work in</td>\n",
       "      <td>1992</td>\n",
       "    </tr>\n",
       "    <tr>\n",
       "      <th>2</th>\n",
       "      <td>Birkhofer, A. (Gesellschaft fuer Reaktorsicherheit Forschungsgelaende, Garching (Germany))</td>\n",
       "      <td>The use of probabilistic safety assessments for improving nuclear safety in Europe</td>\n",
       "      <td>The political changes in Europe broadened the scope of international nuclear safety matters considerably. The Western world started to receive reliable and increasingly detailed information on Eastern European nuclear technology and took note of a broad range of technical and administrative problems relevant for nuclear safety in these countries. Reunification made Germany a focus of information exchange on these matters. Here, cooperation with the former German Democratic Republic and with other Eastern European countries as well as safety analyses of Soviet-built nuclear power plants started rather early. Meanwhile, these activities are progressing toward all-European cooperation in the nuclear safety sector. This cooperation includes the use of probabilistic safety assessments (PSAs) addressing applications in both Western and Eastern Europe as well as the further development of this methodology in a converging Europe</td>\n",
       "      <td>1992</td>\n",
       "    </tr>\n",
       "    <tr>\n",
       "      <th>3</th>\n",
       "      <td>Barker, F.</td>\n",
       "      <td>The 'tolerability' of nuclear risk?</td>\n",
       "      <td>In 1988, responding to a recommendation by the Inspector at the Sizewell B Public Inquiry, the Health and Safety Executive (HSE) published a discussion document on the tolerability of risk. The Inspector considered that there was insufficient public information to allow an understanding of the basis for the regulation of nuclear safety, and so recommended that the HSE publish a document to enable public, expert and parliamentary discussion. Although the discussion document went a long way to explaining how the HSE reaches its decisions on nuclear safety in a clear and useful way, its proposals on levels of maximum tolerable risk were widely criticised, particularly at the Hinkley Point C Public Inquiry. As explained in this article, the inquiry inspector, Michael Barnes, accepted a number of the points made by objectors and suggested more stringent levels of maximum tolerable risk. In October 1992, the HSE published a revised version of its 'Tolerability of Risk' report, which contains significant changes in its discussion of proposed levels of maximum tolerable individual and societal risk. (author)</td>\n",
       "      <td>1992</td>\n",
       "    </tr>\n",
       "    <tr>\n",
       "      <th>4</th>\n",
       "      <td>Queener, D.S. (Oak Ridge National Lab., TN (United States))</td>\n",
       "      <td>Reports, standards, and safety guides</td>\n",
       "      <td>This article contains four lists of various documents relevant to nuclear safety as compiled by the editor. These lists are: (1) reactor operations-related reports of US origin, (2) other books and reports, (3) regulatory guides, and (4) nuclear standards. Each list contains the documents in its category which were published (or became available) during the three-month period (January, February, and March 1992) covered by this issue of Nuclear Safety. The availability and cost of the documents are noted in most instances</td>\n",
       "      <td>1992</td>\n",
       "    </tr>\n",
       "    <tr>\n",
       "      <th>5</th>\n",
       "      <td>Queener, D.S. (Oak Ridge National Lab., TN (United States))</td>\n",
       "      <td>Reports, standards, and safety guides</td>\n",
       "      <td>This article contains four lists of various documents relevant to nuclear safety. These lists are: (1) reactor operations-related reports of US origin, (2) other books and reports, (3) regulatory guides, and (4) nuclear standards. Each list contains the documents in its category which were apublished (or became available) during the three-month period (July, August, and September 1991) covered by this issue of Nuclear Safety. The availability and cost of the documents are noted in most instances</td>\n",
       "      <td>1992</td>\n",
       "    </tr>\n",
       "    <tr>\n",
       "      <th>6</th>\n",
       "      <td>Anon.</td>\n",
       "      <td>General administrative activities</td>\n",
       "      <td>This section summarizes selected current topics that are related to nuclear safety but did not fit elsewhere in this journal. Included are items reported during January, February, and March 1992. Subjects include the current status of power-plant license renewal, operator requalification exams, and Part 52 design certification</td>\n",
       "      <td>1992</td>\n",
       "    </tr>\n",
       "    <tr>\n",
       "      <th>7</th>\n",
       "      <td>Suzuki, Tatsujiro; Yamaoka, Taiji (Massachusetts Inst. of Technology, Cambridge (United States))</td>\n",
       "      <td>A PIP chart for nuclear plant safety</td>\n",
       "      <td>While it is known that social and political aspects of nuclear safety issues are important, little study has been done on identifying the breadth of stakeholders whose policies have important influences over nuclear plant safety in a comprehensive way. The objectives of this study are to develop a chart that visually identifies important stakeholders and their policies and illustrates these influences in a hierarchical representation so that the relationship between stakeholders and nuclear safety will be better understood. This study is based on a series of extensive interviews with major stakeholders, such as nuclear plant managers, corporate planning vice presidents, state regulators, news media, and public interest groups, and focuses on one US nuclear power plant. Based on the interview results, the authors developed a conceptual policy influence paths (PIP) chart. The PIP chart illustrates the hierarchy of influence among stakeholders. The PIP chart is also useful in identifying possible stakeholders who can be easily overlooked without the PIP chart. In addition, it shows that influence flow is circular rather than linear in one direction</td>\n",
       "      <td>1992</td>\n",
       "    </tr>\n",
       "    <tr>\n",
       "      <th>8</th>\n",
       "      <td>Bari, R.A. (Department of Nuclear Energy, Brookhaven National Laboratory, Building 197C, Upton, New York 11973 (United States))</td>\n",
       "      <td>Applicability of trends in nuclear safety analysis to space nuclear power systems</td>\n",
       "      <td>A survey is presented of some current trends in nuclear safety analysis that may be relevant to space nuclear power systems. This includes: lessons learned from operating power reactor safety and licensing; approaches to the safety design of advanced and novel reactors and facilities; the roles of risk assessment, extremely unlikely accidents, safety goals/targets; and risk-benefit analysis and communication</td>\n",
       "      <td>1993</td>\n",
       "    </tr>\n",
       "    <tr>\n",
       "      <th>9</th>\n",
       "      <td>Das, R.K. (ASTA Engineering, Inc., Malvern, PA (United States)); Hajos, L.G. (Public Service Electric and Gas Co., Hancocks Bridge, NJ (United States))</td>\n",
       "      <td>Commercial grade item (CGI) dedication of generators for nuclear safety related applications</td>\n",
       "      <td>The number of nuclear safety related equipment suppliers and the availability of spare and replacement parts designed specifically for nuclear safety related application are shrinking rapidly. These have made it necessary for utilities to apply commercial grade spare and replacement parts in nuclear safety related applications after implementing proper acceptance and dedication process to verify that such items conform with the requirements of their use in nuclear safety related application. The general guidelines for the commercial grade item (CGI) acceptance and dedication are provided in US Nuclear Regulatory Commission (NRC) Generic Letters and Electric Power Research Institute (EPRI) Report NP-5652, Guideline for the Utilization of Commercial Grade Items in Nuclear Safety Related Applications. This paper presents an application of these generic guidelines for procurement, acceptance, and dedication of a commercial grade generator for use as a standby generator at Salem Generating Station Units 1 and 2. The paper identifies the critical characteristics of the generator which once verified, will provide reasonable assurance that the generator will perform its intended safety function. The paper also delineates the method of verification of the critical characteristics through tests and provide acceptance criteria for the test results. The methodology presented in this paper may be used as specific guidelines for reliable and cost effective procurement and dedication of commercial grade generators for use as standby generators at nuclear power plants</td>\n",
       "      <td>1993</td>\n",
       "    </tr>\n",
       "  </tbody>\n",
       "</table>\n",
       "</div>"
      ],
      "text/plain": [
       "                                                                                                                                                    author  \\\n",
       "0                                                                                                                                            Mariani, L.P.   \n",
       "1                                                                            Corcoran, W.R. (TENERA Risk Management Services, Windsor, CT (United States))   \n",
       "2                                                               Birkhofer, A. (Gesellschaft fuer Reaktorsicherheit Forschungsgelaende, Garching (Germany))   \n",
       "3                                                                                                                                               Barker, F.   \n",
       "4                                                                                              Queener, D.S. (Oak Ridge National Lab., TN (United States))   \n",
       "5                                                                                              Queener, D.S. (Oak Ridge National Lab., TN (United States))   \n",
       "6                                                                                                                                                    Anon.   \n",
       "7                                                         Suzuki, Tatsujiro; Yamaoka, Taiji (Massachusetts Inst. of Technology, Cambridge (United States))   \n",
       "8                          Bari, R.A. (Department of Nuclear Energy, Brookhaven National Laboratory, Building 197C, Upton, New York 11973 (United States))   \n",
       "9  Das, R.K. (ASTA Engineering, Inc., Malvern, PA (United States)); Hajos, L.G. (Public Service Electric and Gas Co., Hancocks Bridge, NJ (United States))   \n",
       "\n",
       "                                                                                   englishTitle  \\\n",
       "0                                                      Commentary on the cost of nuclear safety   \n",
       "1           Nuclear utility self-assessment as viewed by the corporate nuclear safety committee   \n",
       "2            The use of probabilistic safety assessments for improving nuclear safety in Europe   \n",
       "3                                                           The 'tolerability' of nuclear risk?   \n",
       "4                                                         Reports, standards, and safety guides   \n",
       "5                                                         Reports, standards, and safety guides   \n",
       "6                                                             General administrative activities   \n",
       "7                                                          A PIP chart for nuclear plant safety   \n",
       "8             Applicability of trends in nuclear safety analysis to space nuclear power systems   \n",
       "9  Commercial grade item (CGI) dedication of generators for nuclear safety related applications   \n",
       "\n",
       "                                                                                                                                                                                                                                                                                                                                                                                                                                                                                                                                                                                                                                                                                                                                                                                                                                                                                                                                                                                                                                                                                                                                                                                                                                                                                                                                                                                                                                                                                                                                                                                                                              englishAbstract  \\\n",
       "0                                                                                                                                                                                                                                                                                                                                                                                                                                                                                                                                                                                                                                                                                                                                                                                                                                                                                                                                                                                                           Although adequate levels of nuclear safety have been attained, the societal and institutional approaches taken in the United States to safely harvest the fruits of nuclear power technology have been beset with economic inefficiencies. The paper discusses difficulties with nuclear regulation and complexity and politicization of overall decision-making process. Public acceptance is the key to more economical attainment of nuclear safety objectives. It alone will fuel the federal and state governments to more expeditiously move toward what they would perceive to be a public mandate for nuclear utilization   \n",
       "1                                                                                                                                                                                                                                                                                                                                                                                                                                                                                                                                                                                  This paper discusses how corporate nuclear safety committees use the principles of self-assessment to enhance nuclear power plant safety performance. Corporate nuclear safety committees function to advise the senior nuclear power executive on matters affecting nuclear safety. These committees are required by the administrative controls section of the plant technical specifications which are part of the final safety analysis report and the operating license. Committee membership includes senior utility executives, executives from sister utilities, utility senior technical experts, and outside consultants. Current corporate nuclear safety committees often have a finely tuned intuitive feel for self-assessment that they use to probe the underlying opportunities for quality and safety enhancements. The questions prompted by the self-assessment orientation enable the utility line organization members to gain better perspectives on the characteristics of the organizational systems that they manage and work in   \n",
       "2                                                                                                                                                                                                                                                                                                                                                                                                                                                                                                                                                                                                                                                                      The political changes in Europe broadened the scope of international nuclear safety matters considerably. The Western world started to receive reliable and increasingly detailed information on Eastern European nuclear technology and took note of a broad range of technical and administrative problems relevant for nuclear safety in these countries. Reunification made Germany a focus of information exchange on these matters. Here, cooperation with the former German Democratic Republic and with other Eastern European countries as well as safety analyses of Soviet-built nuclear power plants started rather early. Meanwhile, these activities are progressing toward all-European cooperation in the nuclear safety sector. This cooperation includes the use of probabilistic safety assessments (PSAs) addressing applications in both Western and Eastern Europe as well as the further development of this methodology in a converging Europe   \n",
       "3                                                                                                                                                                                                                                                                                                                                                                                                                                                                               In 1988, responding to a recommendation by the Inspector at the Sizewell B Public Inquiry, the Health and Safety Executive (HSE) published a discussion document on the tolerability of risk. The Inspector considered that there was insufficient public information to allow an understanding of the basis for the regulation of nuclear safety, and so recommended that the HSE publish a document to enable public, expert and parliamentary discussion. Although the discussion document went a long way to explaining how the HSE reaches its decisions on nuclear safety in a clear and useful way, its proposals on levels of maximum tolerable risk were widely criticised, particularly at the Hinkley Point C Public Inquiry. As explained in this article, the inquiry inspector, Michael Barnes, accepted a number of the points made by objectors and suggested more stringent levels of maximum tolerable risk. In October 1992, the HSE published a revised version of its 'Tolerability of Risk' report, which contains significant changes in its discussion of proposed levels of maximum tolerable individual and societal risk. (author)   \n",
       "4                                                                                                                                                                                                                                                                                                                                                                                                                                                                                                                                                                                                                                                                                                                                                                                                                                                                                                                                                                                                                                                                                              This article contains four lists of various documents relevant to nuclear safety as compiled by the editor. These lists are: (1) reactor operations-related reports of US origin, (2) other books and reports, (3) regulatory guides, and (4) nuclear standards. Each list contains the documents in its category which were published (or became available) during the three-month period (January, February, and March 1992) covered by this issue of Nuclear Safety. The availability and cost of the documents are noted in most instances   \n",
       "5                                                                                                                                                                                                                                                                                                                                                                                                                                                                                                                                                                                                                                                                                                                                                                                                                                                                                                                                                                                                                                                                                                                        This article contains four lists of various documents relevant to nuclear safety. These lists are: (1) reactor operations-related reports of US origin, (2) other books and reports, (3) regulatory guides, and (4) nuclear standards. Each list contains the documents in its category which were apublished (or became available) during the three-month period (July, August, and September 1991) covered by this issue of Nuclear Safety. The availability and cost of the documents are noted in most instances   \n",
       "6                                                                                                                                                                                                                                                                                                                                                                                                                                                                                                                                                                                                                                                                                                                                                                                                                                                                                                                                                                                                                                                                                                                                                                                                                                                                                                    This section summarizes selected current topics that are related to nuclear safety but did not fit elsewhere in this journal. Included are items reported during January, February, and March 1992. Subjects include the current status of power-plant license renewal, operator requalification exams, and Part 52 design certification   \n",
       "7                                                                                                                                                                                                                                                                                                                                                                                                                                 While it is known that social and political aspects of nuclear safety issues are important, little study has been done on identifying the breadth of stakeholders whose policies have important influences over nuclear plant safety in a comprehensive way. The objectives of this study are to develop a chart that visually identifies important stakeholders and their policies and illustrates these influences in a hierarchical representation so that the relationship between stakeholders and nuclear safety will be better understood. This study is based on a series of extensive interviews with major stakeholders, such as nuclear plant managers, corporate planning vice presidents, state regulators, news media, and public interest groups, and focuses on one US nuclear power plant. Based on the interview results, the authors developed a conceptual policy influence paths (PIP) chart. The PIP chart illustrates the hierarchy of influence among stakeholders. The PIP chart is also useful in identifying possible stakeholders who can be easily overlooked without the PIP chart. In addition, it shows that influence flow is circular rather than linear in one direction   \n",
       "8                                                                                                                                                                                                                                                                                                                                                                                                                                                                                                                                                                                                                                                                                                                                                                                                                                                                                                                                                                                                                                                                                                                                                                                                                 A survey is presented of some current trends in nuclear safety analysis that may be relevant to space nuclear power systems. This includes: lessons learned from operating power reactor safety and licensing; approaches to the safety design of advanced and novel reactors and facilities; the roles of risk assessment, extremely unlikely accidents, safety goals/targets; and risk-benefit analysis and communication   \n",
       "9  The number of nuclear safety related equipment suppliers and the availability of spare and replacement parts designed specifically for nuclear safety related application are shrinking rapidly. These have made it necessary for utilities to apply commercial grade spare and replacement parts in nuclear safety related applications after implementing proper acceptance and dedication process to verify that such items conform with the requirements of their use in nuclear safety related application. The general guidelines for the commercial grade item (CGI) acceptance and dedication are provided in US Nuclear Regulatory Commission (NRC) Generic Letters and Electric Power Research Institute (EPRI) Report NP-5652, Guideline for the Utilization of Commercial Grade Items in Nuclear Safety Related Applications. This paper presents an application of these generic guidelines for procurement, acceptance, and dedication of a commercial grade generator for use as a standby generator at Salem Generating Station Units 1 and 2. The paper identifies the critical characteristics of the generator which once verified, will provide reasonable assurance that the generator will perform its intended safety function. The paper also delineates the method of verification of the critical characteristics through tests and provide acceptance criteria for the test results. The methodology presented in this paper may be used as specific guidelines for reliable and cost effective procurement and dedication of commercial grade generators for use as standby generators at nuclear power plants   \n",
       "\n",
       "   publicationYear  \n",
       "0             1991  \n",
       "1             1992  \n",
       "2             1992  \n",
       "3             1992  \n",
       "4             1992  \n",
       "5             1992  \n",
       "6             1992  \n",
       "7             1992  \n",
       "8             1993  \n",
       "9             1993  "
      ]
     },
     "metadata": {},
     "output_type": "display_data"
    }
   ],
   "source": [
    "import pandas as pd\n",
    "import numpy as np\n",
    "\n",
    "df1=pd.read_json('C:/Users/ivobo/notebook/dataset/250.json') #from the INIS repository ('nuclear safety' (abstract), academic journals, english)\n",
    "df2=pd.read_json('C:/Users/ivobo/notebook/dataset/500.json')\n",
    "df3=pd.read_json('C:/Users/ivobo/notebook/dataset/750.json')\n",
    "df4=pd.read_json('C:/Users/ivobo/notebook/dataset/1000.json')\n",
    "df5=pd.read_json('C:/Users/ivobo/notebook/dataset/1250.json')\n",
    "\n",
    "frames=[]\n",
    "for i in range (1,6):\n",
    "    frames.append('df'+str(i))\n",
    "    \n",
    "frames_obj = [eval(x) for x in frames] #To make the list of strings point to the actual dataframes\n",
    "\n",
    "df0=pd.concat(frames_obj, ignore_index=True).drop([\"corporateAuthor\", \"originalTitle\"], axis=1) #merge dfs\n",
    "\n",
    "df_original=df0['englishAbstract'] #to retrieve unprocessed results \n",
    "\n",
    "display(df0.head(10)) #check"
   ]
  },
  {
   "cell_type": "markdown",
   "id": "1a8c525b",
   "metadata": {},
   "source": [
    "### Preprocessing - tokenize, lemmatize, remove punctuation and stopwords"
   ]
  },
  {
   "cell_type": "markdown",
   "id": "96d3c521",
   "metadata": {},
   "source": [
    "Define a function to map the pos tags to a compatible format. Necessary for an effective lemmatization. "
   ]
  },
  {
   "cell_type": "code",
   "execution_count": 63,
   "id": "912782a7",
   "metadata": {
    "scrolled": true
   },
   "outputs": [],
   "source": [
    "import nltk\n",
    "import requests\n",
    "from nltk.stem import WordNetLemmatizer \n",
    "from tqdm import tqdm\n",
    "\n",
    "def get_wordnet_pos(word):\n",
    "    from nltk.corpus import wordnet\n",
    "    tag = nltk.pos_tag([word])[0][1][0].upper()\n",
    "    tag_dict = {\"J\": wordnet.ADJ,\n",
    "                \"N\": wordnet.NOUN,\n",
    "                \"V\": wordnet.VERB,\n",
    "                \"R\": wordnet.ADV}\n",
    "\n",
    "    return tag_dict.get(tag, wordnet.NOUN)"
   ]
  },
  {
   "cell_type": "markdown",
   "id": "6a71a858",
   "metadata": {},
   "source": [
    "Define a function to tokenize, lemmatize and filter for stopwords."
   ]
  },
  {
   "cell_type": "code",
   "execution_count": 64,
   "id": "fc640eb2",
   "metadata": {},
   "outputs": [],
   "source": [
    "lemmatizer = WordNetLemmatizer()\n",
    "\n",
    "stop = open(\"C:/Users/ivobo/notebook/dataset/stopwords.txt\", \"r\") \n",
    "stopwords = stop.read().split() #list of stopwords imported\n",
    "\n",
    "import re\n",
    "split_regex = r'\\W+'\n",
    "\n",
    "def tokenize(string): #function to tokenize, filter for stopwords and lemmatize\n",
    "  return [lemmatizer.lemmatize(s, get_wordnet_pos(s)) for s in re.split(split_regex, string.lower())\n",
    "  if s != '' and not s in stopwords]"
   ]
  },
  {
   "cell_type": "markdown",
   "id": "5e2dc573",
   "metadata": {},
   "source": [
    "Apply it to the dataset."
   ]
  },
  {
   "cell_type": "code",
   "execution_count": 65,
   "id": "c73cdbac",
   "metadata": {},
   "outputs": [
    {
     "name": "stderr",
     "output_type": "stream",
     "text": [
      "C:\\Users\\ivobo\\AppData\\Local\\Temp\\ipykernel_17540\\801175491.py:1: FutureWarning: The default value of regex will change from True to False in a future version.\n",
      "  df0['englishAbstract'] = df0['englishAbstract'].str.replace(r'[^\\w\\s]', '') #remove punctuation\n",
      "100%|██████████████████████████████████████████████████████████████████████████████| 1250/1250 [01:36<00:00, 12.90it/s]\n"
     ]
    },
    {
     "data": {
      "text/html": [
       "<div>\n",
       "<style scoped>\n",
       "    .dataframe tbody tr th:only-of-type {\n",
       "        vertical-align: middle;\n",
       "    }\n",
       "\n",
       "    .dataframe tbody tr th {\n",
       "        vertical-align: top;\n",
       "    }\n",
       "\n",
       "    .dataframe thead th {\n",
       "        text-align: right;\n",
       "    }\n",
       "</style>\n",
       "<table border=\"1\" class=\"dataframe\">\n",
       "  <thead>\n",
       "    <tr style=\"text-align: right;\">\n",
       "      <th></th>\n",
       "      <th>author</th>\n",
       "      <th>englishTitle</th>\n",
       "      <th>englishAbstract</th>\n",
       "      <th>publicationYear</th>\n",
       "    </tr>\n",
       "  </thead>\n",
       "  <tbody>\n",
       "    <tr>\n",
       "      <th>0</th>\n",
       "      <td>Mariani, L.P.</td>\n",
       "      <td>Commentary on the cost of nuclear safety</td>\n",
       "      <td>[although, adequate, level, nuclear, safety, attain, societal, institutional, approach, take, united, state, safely, harvest, fruit, nuclear, power, technology, beset, economic, inefficiency, paper, discus, difficulty, nuclear, regulation, complexity, politicization, overall, decisionmaking, process, public, acceptance, key, economical, attainment, nuclear, safety, objective, alone, fuel, federal, state, government, expeditiously, move, toward, would, perceive, public, mandate, nuclear, utilization]</td>\n",
       "      <td>1991</td>\n",
       "    </tr>\n",
       "    <tr>\n",
       "      <th>1</th>\n",
       "      <td>Corcoran, W.R. (TENERA Risk Management Services, Windsor, CT (United States))</td>\n",
       "      <td>Nuclear utility self-assessment as viewed by the corporate nuclear safety committee</td>\n",
       "      <td>[paper, discus, corporate, nuclear, safety, committee, use, principle, selfassessment, enhance, nuclear, power, plant, safety, performance, corporate, nuclear, safety, committee, function, advise, senior, nuclear, power, executive, matter, affect, nuclear, safety, committee, require, administrative, control, section, plant, technical, specification, part, final, safety, analysis, report, operating, license, committee, membership, include, senior, utility, executive, executive, sister, utility, utility, senior, technical, expert, outside, consultant, current, corporate, nuclear, safety, committee, often, finely, tune, intuitive, feel, selfassessment, use, probe, underlie, opportunity, quality, safety, enhancement, question, prompt, selfassessment, orientation, enable, utility, line, organization, member, gain, well, perspective, characteristic, organizational, system, manage, work]</td>\n",
       "      <td>1992</td>\n",
       "    </tr>\n",
       "    <tr>\n",
       "      <th>2</th>\n",
       "      <td>Birkhofer, A. (Gesellschaft fuer Reaktorsicherheit Forschungsgelaende, Garching (Germany))</td>\n",
       "      <td>The use of probabilistic safety assessments for improving nuclear safety in Europe</td>\n",
       "      <td>[political, change, europe, broaden, scope, international, nuclear, safety, matter, considerably, western, world, start, receive, reliable, increasingly, detailed, information, eastern, european, nuclear, technology, take, note, broad, range, technical, administrative, problem, relevant, nuclear, safety, country, reunification, make, germany, focus, information, exchange, matter, cooperation, former, german, democratic, republic, eastern, european, country, well, safety, analysis, sovietbuilt, nuclear, power, plant, start, rather, early, meanwhile, activity, progress, toward, alleuropean, cooperation, nuclear, safety, sector, cooperation, include, use, probabilistic, safety, assessment, psa, address, application, western, eastern, europe, well, development, methodology, converge, europe]</td>\n",
       "      <td>1992</td>\n",
       "    </tr>\n",
       "    <tr>\n",
       "      <th>3</th>\n",
       "      <td>Barker, F.</td>\n",
       "      <td>The 'tolerability' of nuclear risk?</td>\n",
       "      <td>[1988, respond, recommendation, inspector, sizewell, b, public, inquiry, health, safety, executive, hse, publish, discussion, document, tolerability, risk, inspector, consider, insufficient, public, information, allow, understand, basis, regulation, nuclear, safety, recommend, hse, publish, document, enable, public, expert, parliamentary, discussion, although, discussion, document, go, long, way, explain, hse, reach, decision, nuclear, safety, clear, useful, way, proposal, level, maximum, tolerable, risk, widely, criticise, particularly, hinkley, point, c, public, inquiry, explain, article, inquiry, inspector, michael, barnes, accepted, number, point, make, objector, suggest, stringent, level, maximum, tolerable, risk, october, 1992, hse, publish, revise, version, tolerability, risk, report, contains, significant, change, discussion, propose, level, maximum, tolerable, individual, ...]</td>\n",
       "      <td>1992</td>\n",
       "    </tr>\n",
       "    <tr>\n",
       "      <th>4</th>\n",
       "      <td>Queener, D.S. (Oak Ridge National Lab., TN (United States))</td>\n",
       "      <td>Reports, standards, and safety guides</td>\n",
       "      <td>[article, contains, four, list, various, document, relevant, nuclear, safety, compile, editor, list, 1, reactor, operationsrelated, report, u, origin, 2, book, report, 3, regulatory, guide, 4, nuclear, standard, list, contains, document, category, publish, become, available, threemonth, period, january, february, march, 1992, cover, issue, nuclear, safety, availability, cost, document, note, instance]</td>\n",
       "      <td>1992</td>\n",
       "    </tr>\n",
       "    <tr>\n",
       "      <th>...</th>\n",
       "      <td>...</td>\n",
       "      <td>...</td>\n",
       "      <td>...</td>\n",
       "      <td>...</td>\n",
       "    </tr>\n",
       "    <tr>\n",
       "      <th>1245</th>\n",
       "      <td>Liao, Yixiang; Lucas, Dirk (Helmholtz-Zentrum Dresden - Rossendorf, Institute of Fluid Dynamics, Dresden (Germany)), E-mail: Y.Liao@HZDR.de</td>\n",
       "      <td>A review on numerical modelling of flashing flow with application to nuclear safety analysis</td>\n",
       "      <td>[highlight, review, numerical, model, nuclear, flash, flow, provide, consideration, interphase, slip, twofluid, model, often, necessary, thermal, velocity, pressure, effect, affect, vaporization, rate, polydisperse, model, consider, different, interfacial, topology, promising, flash, flow, relevant, multiphase, phenomenon, many, technical, application, include, nuclear, safety, analysis, subject, intense, research, several, decade, numerical, study, evolve, onedimensional, multidimensional, variety, method, propose, broad, consensus, exist, yet, present, work, aim, present, overview, available, model, ass, limitation, perspective, conduct, extensive, literature, survey, final, focus, put, recent, progress, computational, fluid, dynamic, simulation, consensus, model, interfacial, slip, phase, change, mechanism, bubble, size, identify, since, flash, scenario, often, accompany, high, void, fraction, broad, ...]</td>\n",
       "      <td>2021</td>\n",
       "    </tr>\n",
       "    <tr>\n",
       "      <th>1246</th>\n",
       "      <td>Vanleeuw, David; Heyse, Jan; Sibbens, Goedele; Zampella, Mariavittoria (European Commission, Joint Research Centre, Directorate G, Retieseweg 111, Geel B- 2440 (Belgium))</td>\n",
       "      <td>Preparation and characterization of 10B targets at JRC-Geel</td>\n",
       "      <td>[measurement, neutroninduced, cross, section, generate, nuclear, data, core, activity, jrcdirectorate, g, standard, nuclear, safety, security, safeguard, unit, geel, thin, sup10supb, layer, great, importance, activity, use, measure, absolute, neutron, flux, beam, use, standard, sup10supbnαsup7supli, reaction, crosssection, reference, period, reduce, activity, line, renew, interest, nuclear, data, demand, high, quality, sup10supb, target, increase, paper, describe, design, feature, new, ebeam, evaporator, specifically, customize, preparation, boron, target, replacement, old, dysfunctional, equipment, several, sup10supb, target, vary, thickness, prepared, characterize, part, factory, acceptance, test, implementation, jrcgeel, target, preparation, laboratory, differential, substitution, weigh, apply, mass, determination, order, calibrate, thickness, monitor, comparative, timeofflight, measurement, relative, sup10supb, sup235supu, standard, target, ...]</td>\n",
       "      <td>2020</td>\n",
       "    </tr>\n",
       "    <tr>\n",
       "      <th>1247</th>\n",
       "      <td>Il Kim, Sung; Seok Kang, Hyung; Su Na, Young; Hyun Ryu, Eun; Joon Park, Rae; Hwan Park, Joo; Mann Song, Yong; Song, JinHo; Wan Hong, Seong (Accident Monitoring and Mitigation Research Team, Korea Atomic Energy Research Institute (34057) 111, Daedeok-daero 989 beon-gil, Yuseong-gu, Daejeon (Korea, Republic of)), E-mail: sikim@kaeri.re.kr</td>\n",
       "      <td>Analysis of steam generator tube rupture accident for OPR 1000 nuclear power plant</td>\n",
       "      <td>[highlight, melcor, input, tisgtr, accident, analysis, opr1000, produce, follow, qualification, procedure, major, natural, circulation, flow, parameter, obtain, cfd, calculation, reflect, analysis, release, fraction, csoh, environment, release, fraction, band, evaluate, uncertainty, analysis, effect, sg, shell, depressurization, number, broken, sg, tube, csoh, release, fraction, analyze, evaluation, radionuclide, release, environment, operating, nuclear, power, plant, increase, importance, republic, korea, follow, 2015, amendment, nuclear, safety, act, include, design, basis, accident, also, severe, accident, management, containment, bypass, accident, among, crucial, scenario, consider, new, circumstance, due, high, consequence, even, though, probability, accident, low, study, analysis, thermally, induced, steam, generator, tube, rupture, tisgtr, accident, cause, severe, accident, conduct, ...]</td>\n",
       "      <td>2021</td>\n",
       "    </tr>\n",
       "    <tr>\n",
       "      <th>1248</th>\n",
       "      <td>Martin, Robert P. (BWX Technologies, Inc., 109 Ramsey Place, Lynchburg, VA 24501 (United States)); Petruzzi, Alessandro (Nuclear and INdustrial Engineering S.r.l., Via della Chiesa XXXII, 759 - 55100 Lucca (Italy))</td>\n",
       "      <td>Progress in international best estimate plus uncertainty analysis methodologies</td>\n",
       "      <td>[highlight, paper, provide, review, progress, development, bestestimate, plus, uncertainty, evaluation, model, research, regulatory, compliance, application, feature, industrial, application, include, routine, safetyrelated, design, fuel, reload, analysis, servicesrelated, eg, equipment, qualification, various, oneoff, infrequent, analysis, support, nonsafety, objective, eg, pra, samg, etc, early, foundation, method, developed, 1980s, 1990s, anchor, modern, bepu, method, code, scale, applicability, uncertainty, csau, u, gesellschaft, für, anlage, und, reaktorsicherheit, grs, method, germany, code, internal, assessment, uncertainty, ciau, italy, bepu, framework, north, america, include, contribution, aecl, canada, areva, general, electric, westinghouse, u, bepu, framework, europe, include, collaborative, project, uncertainty, method, study, 1990s, bemuse, project, 2000s, premium, sapium, project, 2010s, ...]</td>\n",
       "      <td>2021</td>\n",
       "    </tr>\n",
       "    <tr>\n",
       "      <th>1249</th>\n",
       "      <td>Kishimoto, Hirotatsu; Park, Joon-Soo; Nakazato, Naofumi (OASIS, Muroran Institute of Technology, 27-1 Mizumoto-cho, Muroran, Hokkaido 050-8585 (Japan)); Kohyama, Akira (NITE Corporation, 1127-1-504, Kashiwa, Kashiwa-si, Chiba 277-0005 (Japan)), E-mail: hkishi@mmm.muroran-it.ac.jp</td>\n",
       "      <td>Silicon dissolution and morphology modification of NITE SiC/SiC claddings in pressurized flowing water under neutron irradiation</td>\n",
       "      <td>[highlight, nite, sicsic, cladding, neutronirradiated, use, experimental, fission, reactor, sicsic, cladding, irradiate, pressurize, flow, water, reactor, silicon, dissolution, measure, various, reactor, operating, condition, postirradiation, cladding, morphology, observe, evaluate, various, technology, cladding, silicon, carbide, sicbased, composite, light, water, reactor, expect, key, component, accidenttolerant, fuel, technology, enhance, nuclear, safety, muroran, institute, technology, developed, technology, produce, sicsic, cladding, nanoinfiltration, transient, eutectic, phase, nite, method, mextfunded, project, name, scarlet, part, program, neutron, irradiation, experiment, perform, pressurize, cool, water, flow, halden, reactor, norway, irradiation, experiment, silicon, dissolution, sicsic, specimen, measure, relationship, among, dissolution, property, sicsic, cladding, reactor, operating, condition, study, morphology, sicsic, cladding, significantly, modify, ...]</td>\n",
       "      <td>2021</td>\n",
       "    </tr>\n",
       "  </tbody>\n",
       "</table>\n",
       "<p>1250 rows × 4 columns</p>\n",
       "</div>"
      ],
      "text/plain": [
       "                                                                                                                                                                                                                                                                                                                                                  author  \\\n",
       "0                                                                                                                                                                                                                                                                                                                                          Mariani, L.P.   \n",
       "1                                                                                                                                                                                                                                                                          Corcoran, W.R. (TENERA Risk Management Services, Windsor, CT (United States))   \n",
       "2                                                                                                                                                                                                                                                             Birkhofer, A. (Gesellschaft fuer Reaktorsicherheit Forschungsgelaende, Garching (Germany))   \n",
       "3                                                                                                                                                                                                                                                                                                                                             Barker, F.   \n",
       "4                                                                                                                                                                                                                                                                                            Queener, D.S. (Oak Ridge National Lab., TN (United States))   \n",
       "...                                                                                                                                                                                                                                                                                                                                                  ...   \n",
       "1245                                                                                                                                                                                                         Liao, Yixiang; Lucas, Dirk (Helmholtz-Zentrum Dresden - Rossendorf, Institute of Fluid Dynamics, Dresden (Germany)), E-mail: Y.Liao@HZDR.de   \n",
       "1246                                                                                                                                                                          Vanleeuw, David; Heyse, Jan; Sibbens, Goedele; Zampella, Mariavittoria (European Commission, Joint Research Centre, Directorate G, Retieseweg 111, Geel B- 2440 (Belgium))   \n",
       "1247  Il Kim, Sung; Seok Kang, Hyung; Su Na, Young; Hyun Ryu, Eun; Joon Park, Rae; Hwan Park, Joo; Mann Song, Yong; Song, JinHo; Wan Hong, Seong (Accident Monitoring and Mitigation Research Team, Korea Atomic Energy Research Institute (34057) 111, Daedeok-daero 989 beon-gil, Yuseong-gu, Daejeon (Korea, Republic of)), E-mail: sikim@kaeri.re.kr   \n",
       "1248                                                                                                                              Martin, Robert P. (BWX Technologies, Inc., 109 Ramsey Place, Lynchburg, VA 24501 (United States)); Petruzzi, Alessandro (Nuclear and INdustrial Engineering S.r.l., Via della Chiesa XXXII, 759 - 55100 Lucca (Italy))   \n",
       "1249                                                            Kishimoto, Hirotatsu; Park, Joon-Soo; Nakazato, Naofumi (OASIS, Muroran Institute of Technology, 27-1 Mizumoto-cho, Muroran, Hokkaido 050-8585 (Japan)); Kohyama, Akira (NITE Corporation, 1127-1-504, Kashiwa, Kashiwa-si, Chiba 277-0005 (Japan)), E-mail: hkishi@mmm.muroran-it.ac.jp   \n",
       "\n",
       "                                                                                                                          englishTitle  \\\n",
       "0                                                                                             Commentary on the cost of nuclear safety   \n",
       "1                                                  Nuclear utility self-assessment as viewed by the corporate nuclear safety committee   \n",
       "2                                                   The use of probabilistic safety assessments for improving nuclear safety in Europe   \n",
       "3                                                                                                  The 'tolerability' of nuclear risk?   \n",
       "4                                                                                                Reports, standards, and safety guides   \n",
       "...                                                                                                                                ...   \n",
       "1245                                      A review on numerical modelling of flashing flow with application to nuclear safety analysis   \n",
       "1246                                                                       Preparation and characterization of 10B targets at JRC-Geel   \n",
       "1247                                                Analysis of steam generator tube rupture accident for OPR 1000 nuclear power plant   \n",
       "1248                                                   Progress in international best estimate plus uncertainty analysis methodologies   \n",
       "1249  Silicon dissolution and morphology modification of NITE SiC/SiC claddings in pressurized flowing water under neutron irradiation   \n",
       "\n",
       "                                                                                                                                                                                                                                                                                                                                                                                                                                                                                                                                                                                                                                                                                                                                                                                                                                                                                                                                                                                                                 englishAbstract  \\\n",
       "0                                                                                                                                                                                                                                                                                                                                                                                                                                                                                                       [although, adequate, level, nuclear, safety, attain, societal, institutional, approach, take, united, state, safely, harvest, fruit, nuclear, power, technology, beset, economic, inefficiency, paper, discus, difficulty, nuclear, regulation, complexity, politicization, overall, decisionmaking, process, public, acceptance, key, economical, attainment, nuclear, safety, objective, alone, fuel, federal, state, government, expeditiously, move, toward, would, perceive, public, mandate, nuclear, utilization]   \n",
       "1                                                                                                  [paper, discus, corporate, nuclear, safety, committee, use, principle, selfassessment, enhance, nuclear, power, plant, safety, performance, corporate, nuclear, safety, committee, function, advise, senior, nuclear, power, executive, matter, affect, nuclear, safety, committee, require, administrative, control, section, plant, technical, specification, part, final, safety, analysis, report, operating, license, committee, membership, include, senior, utility, executive, executive, sister, utility, utility, senior, technical, expert, outside, consultant, current, corporate, nuclear, safety, committee, often, finely, tune, intuitive, feel, selfassessment, use, probe, underlie, opportunity, quality, safety, enhancement, question, prompt, selfassessment, orientation, enable, utility, line, organization, member, gain, well, perspective, characteristic, organizational, system, manage, work]   \n",
       "2                                                                                                                                                                                                 [political, change, europe, broaden, scope, international, nuclear, safety, matter, considerably, western, world, start, receive, reliable, increasingly, detailed, information, eastern, european, nuclear, technology, take, note, broad, range, technical, administrative, problem, relevant, nuclear, safety, country, reunification, make, germany, focus, information, exchange, matter, cooperation, former, german, democratic, republic, eastern, european, country, well, safety, analysis, sovietbuilt, nuclear, power, plant, start, rather, early, meanwhile, activity, progress, toward, alleuropean, cooperation, nuclear, safety, sector, cooperation, include, use, probabilistic, safety, assessment, psa, address, application, western, eastern, europe, well, development, methodology, converge, europe]   \n",
       "3                                                                                             [1988, respond, recommendation, inspector, sizewell, b, public, inquiry, health, safety, executive, hse, publish, discussion, document, tolerability, risk, inspector, consider, insufficient, public, information, allow, understand, basis, regulation, nuclear, safety, recommend, hse, publish, document, enable, public, expert, parliamentary, discussion, although, discussion, document, go, long, way, explain, hse, reach, decision, nuclear, safety, clear, useful, way, proposal, level, maximum, tolerable, risk, widely, criticise, particularly, hinkley, point, c, public, inquiry, explain, article, inquiry, inspector, michael, barnes, accepted, number, point, make, objector, suggest, stringent, level, maximum, tolerable, risk, october, 1992, hse, publish, revise, version, tolerability, risk, report, contains, significant, change, discussion, propose, level, maximum, tolerable, individual, ...]   \n",
       "4                                                                                                                                                                                                                                                                                                                                                                                                                                                                                                                                                                                                           [article, contains, four, list, various, document, relevant, nuclear, safety, compile, editor, list, 1, reactor, operationsrelated, report, u, origin, 2, book, report, 3, regulatory, guide, 4, nuclear, standard, list, contains, document, category, publish, become, available, threemonth, period, january, february, march, 1992, cover, issue, nuclear, safety, availability, cost, document, note, instance]   \n",
       "...                                                                                                                                                                                                                                                                                                                                                                                                                                                                                                                                                                                                                                                                                                                                                                                                                                                                                                                                                                                                                          ...   \n",
       "1245                                                                   [highlight, review, numerical, model, nuclear, flash, flow, provide, consideration, interphase, slip, twofluid, model, often, necessary, thermal, velocity, pressure, effect, affect, vaporization, rate, polydisperse, model, consider, different, interfacial, topology, promising, flash, flow, relevant, multiphase, phenomenon, many, technical, application, include, nuclear, safety, analysis, subject, intense, research, several, decade, numerical, study, evolve, onedimensional, multidimensional, variety, method, propose, broad, consensus, exist, yet, present, work, aim, present, overview, available, model, ass, limitation, perspective, conduct, extensive, literature, survey, final, focus, put, recent, progress, computational, fluid, dynamic, simulation, consensus, model, interfacial, slip, phase, change, mechanism, bubble, size, identify, since, flash, scenario, often, accompany, high, void, fraction, broad, ...]   \n",
       "1246                         [measurement, neutroninduced, cross, section, generate, nuclear, data, core, activity, jrcdirectorate, g, standard, nuclear, safety, security, safeguard, unit, geel, thin, sup10supb, layer, great, importance, activity, use, measure, absolute, neutron, flux, beam, use, standard, sup10supbnαsup7supli, reaction, crosssection, reference, period, reduce, activity, line, renew, interest, nuclear, data, demand, high, quality, sup10supb, target, increase, paper, describe, design, feature, new, ebeam, evaporator, specifically, customize, preparation, boron, target, replacement, old, dysfunctional, equipment, several, sup10supb, target, vary, thickness, prepared, characterize, part, factory, acceptance, test, implementation, jrcgeel, target, preparation, laboratory, differential, substitution, weigh, apply, mass, determination, order, calibrate, thickness, monitor, comparative, timeofflight, measurement, relative, sup10supb, sup235supu, standard, target, ...]   \n",
       "1247                                                                                 [highlight, melcor, input, tisgtr, accident, analysis, opr1000, produce, follow, qualification, procedure, major, natural, circulation, flow, parameter, obtain, cfd, calculation, reflect, analysis, release, fraction, csoh, environment, release, fraction, band, evaluate, uncertainty, analysis, effect, sg, shell, depressurization, number, broken, sg, tube, csoh, release, fraction, analyze, evaluation, radionuclide, release, environment, operating, nuclear, power, plant, increase, importance, republic, korea, follow, 2015, amendment, nuclear, safety, act, include, design, basis, accident, also, severe, accident, management, containment, bypass, accident, among, crucial, scenario, consider, new, circumstance, due, high, consequence, even, though, probability, accident, low, study, analysis, thermally, induced, steam, generator, tube, rupture, tisgtr, accident, cause, severe, accident, conduct, ...]   \n",
       "1248                                                                    [highlight, paper, provide, review, progress, development, bestestimate, plus, uncertainty, evaluation, model, research, regulatory, compliance, application, feature, industrial, application, include, routine, safetyrelated, design, fuel, reload, analysis, servicesrelated, eg, equipment, qualification, various, oneoff, infrequent, analysis, support, nonsafety, objective, eg, pra, samg, etc, early, foundation, method, developed, 1980s, 1990s, anchor, modern, bepu, method, code, scale, applicability, uncertainty, csau, u, gesellschaft, für, anlage, und, reaktorsicherheit, grs, method, germany, code, internal, assessment, uncertainty, ciau, italy, bepu, framework, north, america, include, contribution, aecl, canada, areva, general, electric, westinghouse, u, bepu, framework, europe, include, collaborative, project, uncertainty, method, study, 1990s, bemuse, project, 2000s, premium, sapium, project, 2010s, ...]   \n",
       "1249  [highlight, nite, sicsic, cladding, neutronirradiated, use, experimental, fission, reactor, sicsic, cladding, irradiate, pressurize, flow, water, reactor, silicon, dissolution, measure, various, reactor, operating, condition, postirradiation, cladding, morphology, observe, evaluate, various, technology, cladding, silicon, carbide, sicbased, composite, light, water, reactor, expect, key, component, accidenttolerant, fuel, technology, enhance, nuclear, safety, muroran, institute, technology, developed, technology, produce, sicsic, cladding, nanoinfiltration, transient, eutectic, phase, nite, method, mextfunded, project, name, scarlet, part, program, neutron, irradiation, experiment, perform, pressurize, cool, water, flow, halden, reactor, norway, irradiation, experiment, silicon, dissolution, sicsic, specimen, measure, relationship, among, dissolution, property, sicsic, cladding, reactor, operating, condition, study, morphology, sicsic, cladding, significantly, modify, ...]   \n",
       "\n",
       "      publicationYear  \n",
       "0                1991  \n",
       "1                1992  \n",
       "2                1992  \n",
       "3                1992  \n",
       "4                1992  \n",
       "...               ...  \n",
       "1245             2021  \n",
       "1246             2020  \n",
       "1247             2021  \n",
       "1248             2021  \n",
       "1249             2021  \n",
       "\n",
       "[1250 rows x 4 columns]"
      ]
     },
     "metadata": {},
     "output_type": "display_data"
    }
   ],
   "source": [
    "df0['englishAbstract'] = df0['englishAbstract'].str.replace(r'[^\\w\\s]', '') #remove punctuation\n",
    "df0['englishAbstract'] = df0['englishAbstract'].astype(\"string\") #turns to string\n",
    "\n",
    "df0 = df0[df0['englishAbstract'].notna()].reset_index(drop=True) #remove na values and reset index\n",
    "\n",
    "tqdm.pandas()\n",
    "df0['englishAbstract'] = df0['englishAbstract'].progress_apply(tokenize)#apply the preprocessing steps\n",
    "df_preprocessed=df0['englishAbstract'].tolist()\n",
    "display(df0) #check"
   ]
  },
  {
   "cell_type": "markdown",
   "id": "3ee57eee",
   "metadata": {},
   "source": [
    "### Corpus overview - overall polarity and most frequent tokens"
   ]
  },
  {
   "cell_type": "markdown",
   "id": "def6e599",
   "metadata": {},
   "source": [
    "Define a function to compute the polarity of each word using SentiWordNet."
   ]
  },
  {
   "cell_type": "code",
   "execution_count": 66,
   "id": "78adad4b",
   "metadata": {},
   "outputs": [],
   "source": [
    "from nltk.corpus import wordnet as wn\n",
    "from nltk.corpus import sentiwordnet as swn\n",
    "\n",
    "def sentiwn_score(word):\n",
    "    synsets = list(swn.senti_synsets(word)) #set of synonims of the word\n",
    "    score = 0.0 #initialize\n",
    "    if len(synsets) > 0:\n",
    "        polarity = pd.DataFrame([{'pos': sw.pos_score(), \n",
    "                                  'neg': sw.neg_score(), \n",
    "                                  'obj': sw.obj_score()} for sw in synsets]) \n",
    "        avg_polarity = polarity.mean() #average among the sysnet's scores\n",
    "        score = (avg_polarity['pos'] + avg_polarity['obj']) - (avg_polarity['neg'] + avg_polarity['obj']) #exclude neutral\n",
    "    return score"
   ]
  },
  {
   "cell_type": "markdown",
   "id": "5e1c2260",
   "metadata": {},
   "source": [
    "Compute the polarity for all the tokens of each document. "
   ]
  },
  {
   "cell_type": "code",
   "execution_count": 67,
   "id": "8a68560d",
   "metadata": {},
   "outputs": [
    {
     "name": "stderr",
     "output_type": "stream",
     "text": [
      "100%|██████████████████████████████████████████████████████████████████████████████| 1250/1250 [03:06<00:00,  6.69it/s]\n"
     ]
    }
   ],
   "source": [
    "tqdm.pandas()\n",
    "words_scores=df0['englishAbstract'].progress_apply(lambda x: [sentiwn_score(y) for y in x])"
   ]
  },
  {
   "cell_type": "markdown",
   "id": "5dc7b657",
   "metadata": {},
   "source": [
    "Compute the overall polarity, first of the documents and then of the corpus."
   ]
  },
  {
   "cell_type": "code",
   "execution_count": 68,
   "id": "5bbd15bf",
   "metadata": {
    "scrolled": true
   },
   "outputs": [
    {
     "data": {
      "text/plain": [
       "0.014978584683990798"
      ]
     },
     "execution_count": 68,
     "metadata": {},
     "output_type": "execute_result"
    }
   ],
   "source": [
    "docs_scores = words_scores.apply(lambda cell_values: sum(cell_values) / len(cell_values)) #polarities of the docs\n",
    "corpus_score=docs_scores.mean() #corpus overall polarity (slightly positive)\n",
    "corpus_score"
   ]
  },
  {
   "cell_type": "markdown",
   "id": "2c02fa46",
   "metadata": {},
   "source": [
    "Count documents with a negative score."
   ]
  },
  {
   "cell_type": "code",
   "execution_count": 69,
   "id": "f7812a7c",
   "metadata": {
    "scrolled": false
   },
   "outputs": [
    {
     "name": "stdout",
     "output_type": "stream",
     "text": [
      "The documents with a negative score are: 214\n"
     ]
    }
   ],
   "source": [
    "count_negative = (docs_scores < 0).sum()\n",
    "print(\"The documents with a negative score are:\", count_negative) #a small fraction of the docs. score negative"
   ]
  },
  {
   "cell_type": "markdown",
   "id": "26b57dd8",
   "metadata": {},
   "source": [
    "Show the articles with the highest and lowest scores."
   ]
  },
  {
   "cell_type": "code",
   "execution_count": 70,
   "id": "2573d4db",
   "metadata": {
    "scrolled": true
   },
   "outputs": [
    {
     "name": "stdout",
     "output_type": "stream",
     "text": [
      "Highest score: 0.0799180751846193 The program of the improvement of nuclear safety in Eastern Europe offers both the Electricity Sector and the Spanish Nuclear Industry an opportunity to apply their wide technological capabilities and to contribute to strengthening of the nuclear option, which is perceived as being of fundamental importance to ensure the supply of electrical energy that will be demanded by the industrialized societies in the medium and log term\n"
     ]
    }
   ],
   "source": [
    "print(\"Highest score:\", docs_scores.max(), df_original.iloc[docs_scores.idxmax()])"
   ]
  },
  {
   "cell_type": "code",
   "execution_count": 71,
   "id": "839e560b",
   "metadata": {},
   "outputs": [
    {
     "name": "stdout",
     "output_type": "stream",
     "text": [
      "Lowest score: -0.056682266356339 The recent U.S. Department of Energy (DOE) nuclear safety policy establishes safety goals, which require that the risk to an average individual for prompt fatalities that might result from accidents should not exceed 0.1% of the sum of prompt fatalities resulting from other accidents and the risk to the population for cancer fatalities that might result from operations should not exceed 0.1% of the sum of all cancer fatality risks resulting from all other causes. To demonstrate that these safety goals are met, each DOE site will be required to evaluate the expected frequencies of occurrence and the corresponding radiation effects for all potential accident scenarios. Also required, for evaluation purposes, is that individuals are assumed to be located within a mile of the site boundary for prompt fatalities and 10 miles for latent cancer fatalities. Most available computer codes for population risk assessment from nonreactor accidents are based on calculations made using either centerline or sector-averaged air concentrations. These approaches could be totally inadequate for estimating prompt fatalities from severe accidents with large radioactive releases. This paper describes a comprehensive approach recently developed to estimate more accurately the populations risks from an accidental release of radioactive materials. A sample calculation was made for a hypothetical accident involving the release of part of the contents inside a high-level waste storage tank\n"
     ]
    }
   ],
   "source": [
    "print(\"Lowest score:\", docs_scores.min(), df_original.iloc[docs_scores.idxmin()])"
   ]
  },
  {
   "cell_type": "markdown",
   "id": "360f86e6",
   "metadata": {},
   "source": [
    "Retrieve the most frequent features within the corpus."
   ]
  },
  {
   "cell_type": "code",
   "execution_count": 72,
   "id": "41c5d423",
   "metadata": {},
   "outputs": [],
   "source": [
    "from collections import Counter\n",
    "import matplotlib.pyplot as plt\n",
    "\n",
    "def get_most_frequent_words(series, top_n, exclusion):\n",
    "    tokens = [token for sublist in series for token in sublist] # Concatenate all tokens into a single list\n",
    "    token_freq = Counter(tokens) # Count the frequencies\n",
    "    sorted_token_freq = sorted(token_freq.items(), key=lambda x: x[1], reverse=True) #sort descending\n",
    "    sorted_final=[y for y in sorted_token_freq if y[0] not in exclusion] #excluding specific common words\n",
    "    most_frequent_tokens = sorted_final[:top_n] # Select the top n most frequent tokens\n",
    "    return most_frequent_tokens\n",
    "\n",
    "top_n = 15\n",
    "exclusion=[\"safety analysis\", \"safety system\", \"plant npp\", \"safety margin\", \"nuclear energy\", \"safety research\", \"nuclear industry\", \"nuclear material\", \"safety security\", \"nuclear reactor\", \"radiation nuclear\",\"atomic energy\", \"power plant\", \"protection nuclear\",\"nuclear safety\", \"nuclear power\", \"radioactive\",\"assessment\",\"application\",\"high\",\"perform\",\"activity\",\"review\",\"requirement\",\"one\",\"operation\",\"project\",\"level\",\"work\",\"process\",\"data\",\"include\",\"material\",\"base\",\"new\",\"provide\",\"facility\",\"code\",\"study\",\"present\",\"model\",\"energy\",\"fuel\",\"reactor\",\"nuclear\", \"safety\", \"power\", \"use\", \"system\", \"plant\", \"analysis\", \"result\", \"author\", \"also\", \"paper\", \"method\"]\n",
    "most_frequent= get_most_frequent_words(df0['englishAbstract'], top_n, exclusion)"
   ]
  },
  {
   "cell_type": "markdown",
   "id": "c2b54b29",
   "metadata": {},
   "source": [
    "Report them in a bar graph."
   ]
  },
  {
   "cell_type": "code",
   "execution_count": 73,
   "id": "04258a70",
   "metadata": {},
   "outputs": [
    {
     "data": {
      "image/png": "[encoded data removed]",
      "text/plain": [
       "<Figure size 1500x600 with 1 Axes>"
      ]
     },
     "metadata": {},
     "output_type": "display_data"
    }
   ],
   "source": [
    "def separate(combined): #separate the labels and the frequencies to be input to the bar plot\n",
    "    features = []\n",
    "    frequencies = []\n",
    "\n",
    "    for feature, frequency in combined:\n",
    "        features.append(feature)\n",
    "        frequencies.append(frequency)\n",
    "\n",
    "    return features, frequencies\n",
    "\n",
    "features, frequencies = separate(most_frequent)\n",
    "\n",
    "plt.figure(figsize=(15, 6))\n",
    "plt.bar(features, frequencies, align='center', alpha=0.7, width=0.9)\n",
    "\n",
    "#Add title, labels and adjust size\n",
    "plt.title('Corpus most frequent words')\n",
    "plt.xlabel('Words')\n",
    "plt.ylabel('Counts')\n",
    "plt.xticks(rotation=30)\n",
    "plt.show()"
   ]
  },
  {
   "cell_type": "markdown",
   "id": "8280444e",
   "metadata": {},
   "source": [
    "### Hierarchical clustering"
   ]
  },
  {
   "cell_type": "markdown",
   "id": "93a7b4ae",
   "metadata": {},
   "source": [
    "Compute the tf-idf matrix. It is an embedding technique necessary to determine the similarity among documents."
   ]
  },
  {
   "cell_type": "code",
   "execution_count": 74,
   "id": "25d203b4",
   "metadata": {},
   "outputs": [
    {
     "data": {
      "text/plain": [
       "(1250, 10764)"
      ]
     },
     "execution_count": 74,
     "metadata": {},
     "output_type": "execute_result"
    }
   ],
   "source": [
    "from sklearn.feature_extraction.text import TfidfVectorizer\n",
    "vectorizer = TfidfVectorizer() \n",
    "list_abstracts = df0['englishAbstract'].to_list() #transform the column of interest into a list\n",
    "abstracts_joined=[]\n",
    "\n",
    "for i in list_abstracts: #concatenate tokens (not separated by commas) to obtain a valid argument for the vectorizer function\n",
    "    abstracts_joined.append(\" \".join(i))\n",
    "\n",
    "X = vectorizer.fit_transform(abstracts_joined).toarray() # compute the tf-idf matrix \n",
    "X.shape"
   ]
  },
  {
   "cell_type": "markdown",
   "id": "882ad1be",
   "metadata": {},
   "source": [
    "Build a dendrogram from the tf-idf matrix."
   ]
  },
  {
   "cell_type": "code",
   "execution_count": 75,
   "id": "f4d34205",
   "metadata": {
    "scrolled": true
   },
   "outputs": [
    {
     "data": {
      "image/png": "[encoded data removed]",
      "text/plain": [
       "<Figure size 1500x3000 with 1 Axes>"
      ]
     },
     "metadata": {},
     "output_type": "display_data"
    }
   ],
   "source": [
    "from sklearn.metrics.pairwise import cosine_similarity\n",
    "from scipy.cluster.hierarchy import linkage, dendrogram\n",
    "import matplotlib.pyplot as plt\n",
    "\n",
    "dist = 1 - cosine_similarity(X) #cosine distance\n",
    "linkage_matrix = linkage(dist, method='ward') #minimizes the total within cluster variance\n",
    "ax = plt.subplots(figsize=(15, 30)) # set size\n",
    "ax = dendrogram(linkage_matrix,color_threshold=10, orientation=\"right\", no_labels=True) #compute and show the dendrogram "
   ]
  },
  {
   "cell_type": "markdown",
   "id": "56397bf5",
   "metadata": {},
   "source": [
    "Add a column reporting the cluster label"
   ]
  },
  {
   "cell_type": "code",
   "execution_count": 76,
   "id": "c73aec2a",
   "metadata": {},
   "outputs": [
    {
     "data": {
      "text/html": [
       "<div>\n",
       "<style scoped>\n",
       "    .dataframe tbody tr th:only-of-type {\n",
       "        vertical-align: middle;\n",
       "    }\n",
       "\n",
       "    .dataframe tbody tr th {\n",
       "        vertical-align: top;\n",
       "    }\n",
       "\n",
       "    .dataframe thead th {\n",
       "        text-align: right;\n",
       "    }\n",
       "</style>\n",
       "<table border=\"1\" class=\"dataframe\">\n",
       "  <thead>\n",
       "    <tr style=\"text-align: right;\">\n",
       "      <th></th>\n",
       "      <th>author</th>\n",
       "      <th>englishTitle</th>\n",
       "      <th>englishAbstract</th>\n",
       "      <th>publicationYear</th>\n",
       "      <th>cluster</th>\n",
       "    </tr>\n",
       "  </thead>\n",
       "  <tbody>\n",
       "    <tr>\n",
       "      <th>0</th>\n",
       "      <td>Mariani, L.P.</td>\n",
       "      <td>Commentary on the cost of nuclear safety</td>\n",
       "      <td>[although, adequate, level, nuclear, safety, attain, societal, institutional, approach, take, united, state, safely, harvest, fruit, nuclear, power, technology, beset, economic, inefficiency, paper, discus, difficulty, nuclear, regulation, complexity, politicization, overall, decisionmaking, process, public, acceptance, key, economical, attainment, nuclear, safety, objective, alone, fuel, federal, state, government, expeditiously, move, toward, would, perceive, public, mandate, nuclear, utilization]</td>\n",
       "      <td>1991</td>\n",
       "      <td>2</td>\n",
       "    </tr>\n",
       "    <tr>\n",
       "      <th>1</th>\n",
       "      <td>Corcoran, W.R. (TENERA Risk Management Services, Windsor, CT (United States))</td>\n",
       "      <td>Nuclear utility self-assessment as viewed by the corporate nuclear safety committee</td>\n",
       "      <td>[paper, discus, corporate, nuclear, safety, committee, use, principle, selfassessment, enhance, nuclear, power, plant, safety, performance, corporate, nuclear, safety, committee, function, advise, senior, nuclear, power, executive, matter, affect, nuclear, safety, committee, require, administrative, control, section, plant, technical, specification, part, final, safety, analysis, report, operating, license, committee, membership, include, senior, utility, executive, executive, sister, utility, utility, senior, technical, expert, outside, consultant, current, corporate, nuclear, safety, committee, often, finely, tune, intuitive, feel, selfassessment, use, probe, underlie, opportunity, quality, safety, enhancement, question, prompt, selfassessment, orientation, enable, utility, line, organization, member, gain, well, perspective, characteristic, organizational, system, manage, work]</td>\n",
       "      <td>1992</td>\n",
       "      <td>2</td>\n",
       "    </tr>\n",
       "    <tr>\n",
       "      <th>2</th>\n",
       "      <td>Birkhofer, A. (Gesellschaft fuer Reaktorsicherheit Forschungsgelaende, Garching (Germany))</td>\n",
       "      <td>The use of probabilistic safety assessments for improving nuclear safety in Europe</td>\n",
       "      <td>[political, change, europe, broaden, scope, international, nuclear, safety, matter, considerably, western, world, start, receive, reliable, increasingly, detailed, information, eastern, european, nuclear, technology, take, note, broad, range, technical, administrative, problem, relevant, nuclear, safety, country, reunification, make, germany, focus, information, exchange, matter, cooperation, former, german, democratic, republic, eastern, european, country, well, safety, analysis, sovietbuilt, nuclear, power, plant, start, rather, early, meanwhile, activity, progress, toward, alleuropean, cooperation, nuclear, safety, sector, cooperation, include, use, probabilistic, safety, assessment, psa, address, application, western, eastern, europe, well, development, methodology, converge, europe]</td>\n",
       "      <td>1992</td>\n",
       "      <td>2</td>\n",
       "    </tr>\n",
       "    <tr>\n",
       "      <th>3</th>\n",
       "      <td>Barker, F.</td>\n",
       "      <td>The 'tolerability' of nuclear risk?</td>\n",
       "      <td>[1988, respond, recommendation, inspector, sizewell, b, public, inquiry, health, safety, executive, hse, publish, discussion, document, tolerability, risk, inspector, consider, insufficient, public, information, allow, understand, basis, regulation, nuclear, safety, recommend, hse, publish, document, enable, public, expert, parliamentary, discussion, although, discussion, document, go, long, way, explain, hse, reach, decision, nuclear, safety, clear, useful, way, proposal, level, maximum, tolerable, risk, widely, criticise, particularly, hinkley, point, c, public, inquiry, explain, article, inquiry, inspector, michael, barnes, accepted, number, point, make, objector, suggest, stringent, level, maximum, tolerable, risk, october, 1992, hse, publish, revise, version, tolerability, risk, report, contains, significant, change, discussion, propose, level, maximum, tolerable, individual, ...]</td>\n",
       "      <td>1992</td>\n",
       "      <td>2</td>\n",
       "    </tr>\n",
       "    <tr>\n",
       "      <th>4</th>\n",
       "      <td>Queener, D.S. (Oak Ridge National Lab., TN (United States))</td>\n",
       "      <td>Reports, standards, and safety guides</td>\n",
       "      <td>[article, contains, four, list, various, document, relevant, nuclear, safety, compile, editor, list, 1, reactor, operationsrelated, report, u, origin, 2, book, report, 3, regulatory, guide, 4, nuclear, standard, list, contains, document, category, publish, become, available, threemonth, period, january, february, march, 1992, cover, issue, nuclear, safety, availability, cost, document, note, instance]</td>\n",
       "      <td>1992</td>\n",
       "      <td>2</td>\n",
       "    </tr>\n",
       "  </tbody>\n",
       "</table>\n",
       "</div>"
      ],
      "text/plain": [
       "                                                                                       author  \\\n",
       "0                                                                               Mariani, L.P.   \n",
       "1               Corcoran, W.R. (TENERA Risk Management Services, Windsor, CT (United States))   \n",
       "2  Birkhofer, A. (Gesellschaft fuer Reaktorsicherheit Forschungsgelaende, Garching (Germany))   \n",
       "3                                                                                  Barker, F.   \n",
       "4                                 Queener, D.S. (Oak Ridge National Lab., TN (United States))   \n",
       "\n",
       "                                                                          englishTitle  \\\n",
       "0                                             Commentary on the cost of nuclear safety   \n",
       "1  Nuclear utility self-assessment as viewed by the corporate nuclear safety committee   \n",
       "2   The use of probabilistic safety assessments for improving nuclear safety in Europe   \n",
       "3                                                  The 'tolerability' of nuclear risk?   \n",
       "4                                                Reports, standards, and safety guides   \n",
       "\n",
       "                                                                                                                                                                                                                                                                                                                                                                                                                                                                                                                                                                                                                                                                                                                                                                                                                                                                                                                      englishAbstract  \\\n",
       "0                                                                                                                                                                                                                                                                                                                                                                                                            [although, adequate, level, nuclear, safety, attain, societal, institutional, approach, take, united, state, safely, harvest, fruit, nuclear, power, technology, beset, economic, inefficiency, paper, discus, difficulty, nuclear, regulation, complexity, politicization, overall, decisionmaking, process, public, acceptance, key, economical, attainment, nuclear, safety, objective, alone, fuel, federal, state, government, expeditiously, move, toward, would, perceive, public, mandate, nuclear, utilization]   \n",
       "1       [paper, discus, corporate, nuclear, safety, committee, use, principle, selfassessment, enhance, nuclear, power, plant, safety, performance, corporate, nuclear, safety, committee, function, advise, senior, nuclear, power, executive, matter, affect, nuclear, safety, committee, require, administrative, control, section, plant, technical, specification, part, final, safety, analysis, report, operating, license, committee, membership, include, senior, utility, executive, executive, sister, utility, utility, senior, technical, expert, outside, consultant, current, corporate, nuclear, safety, committee, often, finely, tune, intuitive, feel, selfassessment, use, probe, underlie, opportunity, quality, safety, enhancement, question, prompt, selfassessment, orientation, enable, utility, line, organization, member, gain, well, perspective, characteristic, organizational, system, manage, work]   \n",
       "2                                                                                                      [political, change, europe, broaden, scope, international, nuclear, safety, matter, considerably, western, world, start, receive, reliable, increasingly, detailed, information, eastern, european, nuclear, technology, take, note, broad, range, technical, administrative, problem, relevant, nuclear, safety, country, reunification, make, germany, focus, information, exchange, matter, cooperation, former, german, democratic, republic, eastern, european, country, well, safety, analysis, sovietbuilt, nuclear, power, plant, start, rather, early, meanwhile, activity, progress, toward, alleuropean, cooperation, nuclear, safety, sector, cooperation, include, use, probabilistic, safety, assessment, psa, address, application, western, eastern, europe, well, development, methodology, converge, europe]   \n",
       "3  [1988, respond, recommendation, inspector, sizewell, b, public, inquiry, health, safety, executive, hse, publish, discussion, document, tolerability, risk, inspector, consider, insufficient, public, information, allow, understand, basis, regulation, nuclear, safety, recommend, hse, publish, document, enable, public, expert, parliamentary, discussion, although, discussion, document, go, long, way, explain, hse, reach, decision, nuclear, safety, clear, useful, way, proposal, level, maximum, tolerable, risk, widely, criticise, particularly, hinkley, point, c, public, inquiry, explain, article, inquiry, inspector, michael, barnes, accepted, number, point, make, objector, suggest, stringent, level, maximum, tolerable, risk, october, 1992, hse, publish, revise, version, tolerability, risk, report, contains, significant, change, discussion, propose, level, maximum, tolerable, individual, ...]   \n",
       "4                                                                                                                                                                                                                                                                                                                                                                                                                                                                                                                [article, contains, four, list, various, document, relevant, nuclear, safety, compile, editor, list, 1, reactor, operationsrelated, report, u, origin, 2, book, report, 3, regulatory, guide, 4, nuclear, standard, list, contains, document, category, publish, become, available, threemonth, period, january, february, march, 1992, cover, issue, nuclear, safety, availability, cost, document, note, instance]   \n",
       "\n",
       "   publicationYear  cluster  \n",
       "0             1991        2  \n",
       "1             1992        2  \n",
       "2             1992        2  \n",
       "3             1992        2  \n",
       "4             1992        2  "
      ]
     },
     "execution_count": 76,
     "metadata": {},
     "output_type": "execute_result"
    }
   ],
   "source": [
    "pd.set_option('display.max_colwidth', 1000000)\n",
    "from scipy.cluster.hierarchy import fcluster\n",
    "fl = fcluster(linkage_matrix,4,criterion='maxclust')\n",
    "df0['cluster'] = fl.tolist() #add cluster labels to the dataframe\n",
    "df0.head(5) #check"
   ]
  },
  {
   "cell_type": "markdown",
   "id": "8e81a74a",
   "metadata": {},
   "source": [
    "Investigate the polarity and the most important words of each cluster"
   ]
  },
  {
   "cell_type": "code",
   "execution_count": 77,
   "id": "7905ec3b",
   "metadata": {
    "scrolled": true
   },
   "outputs": [
    {
     "name": "stderr",
     "output_type": "stream",
     "text": [
      "100%|██████████████████████████████████████████████████████████████████████████| 10764/10764 [00:10<00:00, 1055.46it/s]\n"
     ]
    },
    {
     "name": "stdout",
     "output_type": "stream",
     "text": [
      "The most relevant words in cluster 1 are, in order: ['accident', 'risk', 'design', 'public', 'severe', 'iaea', 'management', 'probabilistic', 'fukushima', 'research', 'development', 'approach', 'country', 'psa', 'event'] The mean polarity is: 0.0025540822212896355 The mean year is: 2008.353982300885 The documents in the cluster are 226\n",
      "The most relevant words in cluster 2 are, in order: ['radiation', 'waste', 'international', 'protection', 'regulatory', 'management', 'european', 'convention', 'state', 'country', 'research', 'culture', 'programme', 'regulation', 'iaea'] The mean polarity is: 0.0037037854527559835 The mean year is: 2004.1395939086294 The documents in the cluster are 394\n",
      "The most relevant words in cluster 3 are, in order: ['cladding', 'rod', 'condition', 'test', 'burnup', 'ria', 'pellet', 'nsrr', 'pulse', 'failure', 'research', 'deformation', 'temperature', 'irradiation', 'pcmi'] The mean polarity is: 0.00029366078054501464 The mean year is: 2005.9661016949153 The documents in the cluster are 59\n",
      "The most relevant words in cluster 4 are, in order: ['neutron', 'radiation', 'design', 'dose', 'test', 'water', 'measurement', 'flow', 'heat', 'research', 'calculation', 'experimental', 'accident', 'simulation', 'temperature'] The mean polarity is: 0.002556419288687453 The mean year is: 2010.059544658494 The documents in the cluster are 571\n"
     ]
    }
   ],
   "source": [
    "import numpy as np\n",
    "features = vectorizer.get_feature_names_out() \n",
    "scores = []\n",
    "\n",
    "for word in tqdm(features): #polarity score for each token\n",
    "    scores.append(sentiwn_score(word))\n",
    "\n",
    "for i in range (1, 5): #4 clusters\n",
    "    mean_year=df0.loc[df0['cluster'] == i, 'publicationYear'].mean() #compute the average pubblication year\n",
    "    list_abstracts = df0.loc[df0['cluster'] == i, 'englishAbstract'].to_list() #select abstracts of cluster i\n",
    "    \n",
    "    T=X[df0.loc[df0['cluster']==i].index.to_list(),] #tf-idf matrix of cluster i\n",
    "    \n",
    "    overall_importance = np.asarray(T.sum(axis=0)).ravel() #importance of a feature within the cluster\n",
    "    feature_names = np.array(vectorizer.get_feature_names_out()) \n",
    "    \n",
    "    sorted_indices = np.argsort(overall_importance)[::-1] #sort by relevance\n",
    "    \n",
    "    n = 15  # Set the desired number of significant terms to be retrieved for each cluster\n",
    "    final_top=[]\n",
    "    \n",
    "    top_terms=feature_names[sorted_indices][:50].tolist()\n",
    "    final_top=[x for x in top_terms if x not in exclusion] #exclude some uninformative words\n",
    "    \n",
    "    final_top=final_top[:n]\n",
    "    Tsw = T * scores #combine polarity scores with words relevance scores\n",
    "    t=Tsw.sum(1)/(Tsw != 0).sum(1) #compute the polarity of each document\n",
    "    polarity=np.mean(t) #compute the polarity of the cluster \n",
    "    \n",
    "    print(\"The most relevant words in cluster\", i, \"are, in order:\", final_top, \n",
    "          \"The mean polarity is:\", polarity, \"The mean year is:\", mean_year, \n",
    "          \"The documents in the cluster are\",sum(df0['cluster']==i))"
   ]
  },
  {
   "cell_type": "markdown",
   "id": "17777fe6",
   "metadata": {},
   "source": [
    "### Latent Dirichlet Allocation"
   ]
  },
  {
   "cell_type": "markdown",
   "id": "3875893a",
   "metadata": {},
   "source": [
    "It is an unsupervised method to detect the topics (established ex ante) to which a document refers. It is based on a bayesian approach assuming words independence. It is a generative probabilistic model. The number of clusters is input based on the otucome of hierarchical clustering. "
   ]
  },
  {
   "cell_type": "code",
   "execution_count": 98,
   "id": "d98721d7",
   "metadata": {},
   "outputs": [],
   "source": [
    "from gensim import corpora, models, similarities \n",
    "dictionary = corpora.Dictionary(df0['englishAbstract']) #creates a vocaboulary over the preprocessed data (bag of words)\n",
    "corpus = [dictionary.doc2bow(text) for text in df0['englishAbstract']] #(word's id, frequency)\n",
    "\n",
    "lda = models.LdaModel(corpus, \n",
    "                      num_topics=4, #uses variational bayes instead of gibbs since it is faster\n",
    "                      random_state=12, #replicability\n",
    "                      id2word=dictionary,\n",
    "                      update_every=5, \n",
    "                      chunksize=5,\n",
    "                      passes=100) #iterations"
   ]
  },
  {
   "cell_type": "markdown",
   "id": "cbd6a814",
   "metadata": {},
   "source": [
    "Check the most representative words for each topics"
   ]
  },
  {
   "cell_type": "code",
   "execution_count": 99,
   "id": "f6cb5690",
   "metadata": {},
   "outputs": [
    {
     "name": "stdout",
     "output_type": "stream",
     "text": [
      "Topic 0\n",
      "['test', 'heat', 'condition', 'flow', 'water', 'simulation', 'temperature', 'core', 'accident', 'experimental', 'rod', 'experiment', 'calculation', 'parameter', 'thermal', 'cool', 'cladding', 'effect', 'transient', 'containment']\n",
      "Topic 1\n",
      "['radiation', 'waste', 'international', 'protection', 'agency', 'iaea', 'state', 'programme', 'environmental', 'management', 'country', 'european', 'atomic', 'research', 'decommission', 'radiological', 'regulation', 'sector', 'regulatory', 'cooperation']\n",
      "Topic 2\n",
      "['design', 'accident', 'risk', 'development', 'issue', 'research', 'event', 'approach', 'support', 'control', 'regulatory', 'well', 'npp', 'make', 'public', 'important', 'need', 'improve', 'technology', 'security']\n",
      "Topic 3\n",
      "['radiation', 'dose', 'neutron', 'measurement', 'iter', 'protection', 'measure', 'monitoring', 'field', 'sample', 'exposure', 'standard', 'dos', 'radiological', 'source', 'value', 'detector', 'image', 'dosimetry', 'beam']\n"
     ]
    }
   ],
   "source": [
    "for topic in range(4):\n",
    "    final_topic=[x for x, y in lda.show_topic(topic, topn=50) if x not in exclusion]\n",
    "    print(\"Topic {}\".format(topic))\n",
    "    print(final_topic[:20])"
   ]
  },
  {
   "cell_type": "markdown",
   "id": "1ac2432b",
   "metadata": {},
   "source": [
    "Count the documents belonging to each topic considering the most dominant within each probability distribution."
   ]
  },
  {
   "cell_type": "code",
   "execution_count": 100,
   "id": "2a7d9971",
   "metadata": {
    "scrolled": false
   },
   "outputs": [
    {
     "name": "stdout",
     "output_type": "stream",
     "text": [
      "The documents referring to topic 0 are: 269\n",
      "The documents referring to topic 1 are: 198\n",
      "The documents referring to topic 2 are: 612\n",
      "The documents referring to topic 3 are: 171\n"
     ]
    }
   ],
   "source": [
    "document_topics = [lda[doc] for doc in corpus] #topic distributions of the docs.\n",
    "\n",
    "dominant_topics = []\n",
    "for doc_topics in document_topics:\n",
    "    dominant_topic = max(doc_topics, key=lambda item: item[1]) #take the greatest probability\n",
    "    dominant_topics.append(dominant_topic)\n",
    "\n",
    "count_0 = sum(map(lambda x : x == 0, [x[0] for x in dominant_topics]))\n",
    "count_1= sum(map(lambda x : x == 1, [x[0] for x in dominant_topics]))\n",
    "count_2 = sum(map(lambda x : x == 2, [x[0] for x in dominant_topics]))\n",
    "count_3 = sum(map(lambda x : x == 3, [x[0] for x in dominant_topics]))\n",
    "\n",
    "print(\"The documents referring to topic 0 are:\", count_0)\n",
    "print(\"The documents referring to topic 1 are:\", count_1)\n",
    "print(\"The documents referring to topic 2 are:\", count_2)\n",
    "print(\"The documents referring to topic 3 are:\", count_3)"
   ]
  },
  {
   "cell_type": "markdown",
   "id": "e2c1e482",
   "metadata": {},
   "source": [
    "Apply LDA to an unseen document."
   ]
  },
  {
   "cell_type": "code",
   "execution_count": 101,
   "id": "7a72aa29",
   "metadata": {},
   "outputs": [
    {
     "name": "stdout",
     "output_type": "stream",
     "text": [
      "Fuel cladding, the protective shield around nuclear fuel pellets in reactors, is essential for nuclear power plant safety. However, it can pose challenges when compromised, leading to accidents. Fuel cladding serves to contain radioactive materials, ensuring they do not escape into the environment. It also maintains fuel rod structural integrity under extreme conditions. Historical nuclear disasters, like Chernobyl and Fukushima, underscore the importance of fuel cladding. Failures in cladding contributed to the severity of these accidents. Stringent international safety standards, advanced materials, and proactive measures, such as inspections and research, help mitigate fuel cladding-related risks. As the world seeks sustainable energy, nuclear power remains an option. Prioritizing fuel cladding integrity, adhering to safety standards, and continuous research are essential to secure the future of nuclear power while ensuring public safety.\n",
      "Topic 0: 0.2975\n",
      "Topic 1: 0.0850\n",
      "Topic 2: 0.6145\n"
     ]
    }
   ],
   "source": [
    "import re\n",
    "unseen = open(\"unseen.txt\", \"r\").read()\n",
    "unseen_prepro = tokenize(re.sub(r'[^\\w\\s]', '', unseen)) #preprocessing \n",
    "bow_vector = dictionary.doc2bow(unseen_prepro)\n",
    "print(unseen)\n",
    "\n",
    "topic_distribution = lda[bow_vector]\n",
    "\n",
    "for topic, prob in topic_distribution: #retrieve the topic mixture\n",
    "    print(f\"Topic {topic}: {prob:.4f}\")"
   ]
  },
  {
   "cell_type": "markdown",
   "id": "83b21a6b",
   "metadata": {},
   "source": [
    "LDA with bigrams."
   ]
  },
  {
   "cell_type": "code",
   "execution_count": 82,
   "id": "18e78124",
   "metadata": {},
   "outputs": [],
   "source": [
    "from nltk.util import bigrams\n",
    "bigram_tokens=[list(bigrams(doc)) for doc in df_preprocessed] #corpus of bigrams \n",
    "bigrams_tokens = [[\" \".join(bigram) for bigram in doc]for doc in bigram_tokens] #joining bigrams\n",
    "dictionary1 = corpora.Dictionary(bigrams_tokens)\n",
    "corpus1 = [dictionary1.doc2bow(text) for text in bigrams_tokens]\n",
    "\n",
    "from gensim.models import LdaModel\n",
    "lda1=models.LdaModel(corpus1, random_state=123, chunksize=50, num_topics=4, id2word=dictionary1, passes=100)"
   ]
  },
  {
   "cell_type": "code",
   "execution_count": 83,
   "id": "3aa1dbee",
   "metadata": {
    "scrolled": true
   },
   "outputs": [
    {
     "name": "stdout",
     "output_type": "stream",
     "text": [
      "Topic 0\n",
      "['severe accident', 'safety assessment', 'water reactor', 'probabilistic safety', 'heat transfer', 'fission product', 'pressure vessel', 'accident management', 'cool system', 'source term', 'heat removal', 'core damage', 'pressurize water', 'risk assessment', 'steam generator', 'accident scenario', 'reactor pressure', 'flow rate', 'paper present', 'reactor safety']\n",
      "Topic 1\n",
      "['radiation protection', 'radioactive waste', 'fuel rod', 'research reactor', 'waste management', 'safety standard', 'spent fuel', 'energy agency', 'safety culture', 'reactor nsrr', 'member state', 'use nuclear', 'nuclear installation', 'pwr fuel', 'ria condition', 'nuclear technology', 'radioactive material', 'high burnup', 'nuclear security', 'japan atomic']\n",
      "Topic 2\n",
      "['nuclear fuel', 'monte carlo', 'nuclear facility', 'fuel cycle', 'safety commission', 'risk perception', 'canadian nuclear', 'paper present', 'radioactive waste', 'public acceptance', 'finite element', 'control rod', 'fuel element', 'department energy', 'radiological protection', 'power distribution', 'dose equivalent', 'spent fuel', 'radioactive material', 'nuclear plant']\n",
      "Topic 3\n",
      "['radiation protection', 'australian radiation', 'safety agency', 'absorbed dose', 'monte carlo', 'radiological protection', 'agency arpansa', 'safety authority', 'experimental data', 'radiation dose', 'air kerma', 'cu precipitate', 'paper present', 'effective dos', 'fracture toughness', 'circulation flow', 'void fraction', 'effective dose', 'natural circulation', 'french nuclear']\n"
     ]
    }
   ],
   "source": [
    "for topic1 in range(4):\n",
    "    final=[x for x, y in lda1.show_topic(topic1, topn=50) if x not in exclusion]\n",
    "    print(\"Topic {}\".format(topic1))\n",
    "    print(final[:20])"
   ]
  },
  {
   "cell_type": "markdown",
   "id": "3cb4714e",
   "metadata": {},
   "source": [
    "### Joint Sentiment-Topic (based on gibbs instead)"
   ]
  },
  {
   "cell_type": "markdown",
   "id": "b7af1a21",
   "metadata": {},
   "source": [
    "Import the required libraries"
   ]
  },
  {
   "cell_type": "code",
   "execution_count": 84,
   "id": "0156842d",
   "metadata": {},
   "outputs": [
    {
     "name": "stdout",
     "output_type": "stream",
     "text": [
      "Perplexity after iteration 5 (out of 30 iterations) is 6019.14\n",
      "Perplexity after iteration 10 (out of 30 iterations) is 4965.82\n",
      "Perplexity after iteration 15 (out of 30 iterations) is 4167.85\n",
      "Perplexity after iteration 20 (out of 30 iterations) is 3827.91\n",
      "Perplexity after iteration 25 (out of 30 iterations) is 3628.21\n",
      "Perplexity after iteration 30 (out of 30 iterations) is 3509.40\n"
     ]
    },
    {
     "data": {
      "text/plain": [
       "<jointtsmodel.JST.JST at 0x26a3e84b790>"
      ]
     },
     "execution_count": 84,
     "metadata": {},
     "output_type": "execute_result"
    }
   ],
   "source": [
    "import jointtsmodel\n",
    "from jointtsmodel.JST import JST\n",
    "from jointtsmodel.utils import *\n",
    "from sklearn.feature_extraction.text import CountVectorizer\n",
    "\n",
    "inv_features = dict(zip(features,np.arange(len(features))))\n",
    "lexicon_dict = dict(zip(features, scores)) #sentiwordnet scores as prior info\n",
    "\n",
    "lexicon_data = pd.read_excel('prior_sentiment.xlsx') #different soruce for prior sentiment info\n",
    "lexicon_data = lexicon_data.dropna()\n",
    "lexicon_dict1 = dict(zip(lexicon_data['Word'],lexicon_data['Sentiment']))\n",
    "\n",
    "\n",
    "vectorizer = CountVectorizer() #report frequencies, different from tfidf\n",
    "M = vectorizer.fit_transform(abstracts_joined)\n",
    "\n",
    "model = JST(n_topic_components=4,n_sentiment_components=2,random_state=123,evaluate_every=5, max_iter=30)\n",
    "model.fit(M.toarray(), lexicon_dict1)"
   ]
  },
  {
   "cell_type": "code",
   "execution_count": 85,
   "id": "2730ac1c",
   "metadata": {},
   "outputs": [
    {
     "name": "stdout",
     "output_type": "stream",
     "text": [
      "[['neutron', 'heat', 'flow', 'water', 'temperature', 'cool', 'experiment', 'thermal', 'experimental', 'core', 'pressure', 'consider', 'investigate', 'effect', 'low', 'transfer', 'increase', 'characteristic', 'calculation', 'assembly', 'rate', 'parameter', 'vessel', 'test', 'show', 'algorithm', 'design', 'different', 'image', 'measurement', 'element', 'passive', 'solution'], ['test', 'condition', 'cladding', 'rod', 'water', 'release', 'research', 'sample', 'measure', 'irradiation', 'gas', 'concentration', 'calculate', 'measurement', 'two', 'comparison', 'fission', 'product', 'temperature', 'behavior', 'show', 'calibration', 'experiment', 'value', 'time', 'obtain', 'radon', 'beam', 'failure', 'estimate', 'rate', 'pulse', 'dose', 'burnup', 'transient'], ['radiation', 'protection', 'dose', 'radiological', 'exposure', 'field', 'source', 'monitoring', 'dosimetry', 'information', 'irsn', 'standard', 'french', 'authority', 'worker', 'australian', 'different', 'reference', 'arpansa', 'measurement', 'service', 'report', 'criterion', 'external', 'individual', 'dos', 'laboratory', 'environment', 'medical', 'effective', 'developed', 'france', 'personal', 'measure', 'national', 'recommendation', 'number'], ['accident', 'risk', 'public', 'event', 'security', 'human', 'factor', 'fukushima', 'culture', 'approach', 'improve', 'fire', 'propose', 'show', 'need', 'important', 'psa', 'npps', 'impact', 'china', 'cause', 'release', 'measure', 'three', 'emergency', 'framework', 'developed', 'large', 'issue', 'case', 'consequence', 'severe', 'consider'], ['research', 'year', 'technology', 'report', 'issue', 'japan', 'world', 'well', 'period', 'accident', 'unit', 'development', 'environmental', 'start', 'strategy', 'institute', 'cost', '2011', 'document', 'chernobyl', 'korea', 'many', 'capacity', 'supply', 'may', 'generation', 'disposal', 'march', 'global', 'program', 'decommission', 'construction', 'area', 'electric', 'people', 'cover', 'station', 'meeting', 'three'], ['accident', 'simulation', 'core', 'design', 'uncertainty', 'software', 'severe', 'highlight', 'methodology', 'approach', 'npp', 'development', 'test', 'calculation', 'developed', 'parameter', 'propose', 'failure', 'research', 'evaluation', 'control', 'transient', 'time', 'reliability', 'probabilistic', 'abstract', 'containment', 'computer'], ['design', 'regulatory', 'standard', 'iter', 'component', 'technical', 'inspection', 'program', 'control', 'operating', 'commission', 'maintenance', 'licensing', 'test', 'canadian', 'engineering', 'current', 'operational', 'procedure', 'must', 'require', 'evaluation', 'described', 'future', 'need', 'support', 'cnsc'], ['international', 'waste', 'iaea', 'country', 'management', 'european', 'research', 'protection', 'state', 'programme', 'regulatory', 'convention', 'regulation', 'national', 'agency', 'cooperation', 'atomic', 'development', 'act', 'area', 'security', 'member', 'radiation', 'law', 'support', 'issue', 'general', 'commission', 'field', 'organization', 'government', 'technical', 'emergency', 'liability', 'public', 'authority', 'installation']]\n"
     ]
    }
   ],
   "source": [
    "final_list=[]\n",
    "top_words = list(model.getTopKWords(features, 50).values())\n",
    "for sublist in top_words:\n",
    "    final_sublist = []\n",
    "    for word in sublist:\n",
    "        if word not in exclusion:\n",
    "            final_sublist.append(word)\n",
    "    final_list.append(final_sublist)\n",
    "    \n",
    "print(final_list)"
   ]
  },
  {
   "cell_type": "markdown",
   "id": "ed1527bd",
   "metadata": {},
   "source": [
    "### RJST"
   ]
  },
  {
   "cell_type": "code",
   "execution_count": 86,
   "id": "ecddc23e",
   "metadata": {},
   "outputs": [
    {
     "name": "stdout",
     "output_type": "stream",
     "text": [
      "Perplexity after iteration 5 (out of 30 iterations) is 5961.79\n",
      "Perplexity after iteration 10 (out of 30 iterations) is 5113.36\n",
      "Perplexity after iteration 15 (out of 30 iterations) is 4452.60\n",
      "Perplexity after iteration 20 (out of 30 iterations) is 4103.02\n",
      "Perplexity after iteration 25 (out of 30 iterations) is 3911.72\n",
      "Perplexity after iteration 30 (out of 30 iterations) is 3852.42\n"
     ]
    },
    {
     "data": {
      "text/plain": [
       "<jointtsmodel.RJST.RJST at 0x26a30a626b0>"
      ]
     },
     "execution_count": 86,
     "metadata": {},
     "output_type": "execute_result"
    }
   ],
   "source": [
    "from jointtsmodel.RJST import RJST\n",
    "model1 = RJST(n_topic_components=4,n_sentiment_components=2,random_state=123,evaluate_every=5, max_iter=30)\n",
    "lexicon_data = pd.read_excel('prior_sentiment.xlsx')\n",
    "lexicon_data = lexicon_data.dropna()\n",
    "lexicon_dict = dict(zip(features, scores)) #sentiwordnet scores as prior info\n",
    "lexicon_dict1 = dict(zip(lexicon_data['Word'],lexicon_data['Sentiment']))\n",
    "\n",
    "model1.fit(M.toarray(), lexicon_dict1)"
   ]
  },
  {
   "cell_type": "code",
   "execution_count": 87,
   "id": "6ca2209a",
   "metadata": {},
   "outputs": [
    {
     "name": "stdout",
     "output_type": "stream",
     "text": [
      "[['radiation', 'neutron', 'dose', 'measurement', 'standard', 'protection', 'source', 'field', 'measure', 'exposure', 'radiological', 'reference', 'dosimetry', 'dos', 'value', 'concentration', 'sample', 'arpansa', 'australian', 'laboratory', 'calibration', 'beam', 'image', 'service', 'quality', 'radon', 'irsn', 'two', 'effective', 'comparison', 'test', 'increase'], ['accident', 'public', 'regulatory', 'industry', 'standard', 'issue', 'culture', 'fukushima', 'risk', 'change', 'management', 'make', 'international', 'emergency', 'experience', 'need', 'operator', 'strategy', 'policy', 'severe', 'national', 'technical', 'measure', 'japan', 'action', 'framework', 'acceptance'], ['water', 'test', 'condition', 'temperature', 'heat', 'flow', 'experiment', 'experimental', 'core', 'accident', 'rod', 'research', 'thermal', 'cladding', 'transient', 'cool', 'calculation', 'containment', 'coolant', 'pressure', 'transfer', 'simulation', 'failure', 'behavior', 'low'], ['design', 'risk', 'security', 'approach', 'control', 'event', 'development', 'accident', 'function', 'human', 'engineering', 'component', 'issue', 'psa', 'probabilistic', 'improve', 'highlight', 'reliability', 'concept', 'operational', 'discuss', 'propose', 'generation', 'integrate'], ['research', 'country', 'programme', 'international', 'development', 'technology', 'european', 'area', 'npp', 'year', 'iaea', 'information', 'unit', 'issue', 'management', 'support', 'technical', 'group', 'report', 'field', 'program', 'state', 'national', 'cooperation', 'environmental', 'cover', 'member'], ['accident', 'release', 'criterion', 'structure', 'uncertainty', 'term', 'damage', 'product', 'large', 'methodology', 'case', 'effect', 'probability', 'show', 'impact', 'consider', 'fission', 'scenario', 'calculation', 'approach', 'estimate', 'source', 'probabilistic', 'important', 'load', 'seismic', 'calculate', 'propose', 'evaluate'], ['protection', 'waste', 'radiation', 'convention', 'regulatory', 'regulation', 'state', 'act', 'international', 'law', 'atomic', 'environmental', 'management', 'radiological', 'liability', 'agreement', 'transport', 'agency', 'commission', 'legislation', '2001', 'document', 'security', 'spent', 'establish', 'republic', 'disposal', 'installation', 'directive', '2009'], ['software', 'time', 'developed', 'simulation', 'evaluation', 'design', 'different', 'propose', 'problem', 'technique', 'parameter', 'monitoring', 'test', 'show', 'well', 'distribution', 'evaluate', 'tool', 'algorithm', 'reliability', 'uncertainty']]\n"
     ]
    }
   ],
   "source": [
    "final_list1=[]\n",
    "top_words1 = list(model1.getTopKWords(features, 40).values())\n",
    "for sublist in top_words1:\n",
    "    final_sublist1 = []\n",
    "    for word in sublist:\n",
    "        if word not in exclusion:\n",
    "            final_sublist1.append(word)\n",
    "    final_list1.append(final_sublist1)\n",
    "\n",
    "print(final_list1)"
   ]
  }
 ],
 "metadata": {
  "kernelspec": {
   "display_name": "Python 3 (ipykernel)",
   "language": "python",
   "name": "python3"
  },
  "language_info": {
   "codemirror_mode": {
    "name": "ipython",
    "version": 3
   },
   "file_extension": ".py",
   "mimetype": "text/x-python",
   "name": "python",
   "nbconvert_exporter": "python",
   "pygments_lexer": "ipython3",
   "version": "3.10.9"
  }
 },
 "nbformat": 4,
 "nbformat_minor": 5
}
